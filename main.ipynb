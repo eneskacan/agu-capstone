{
  "nbformat": 4,
  "nbformat_minor": 0,
  "metadata": {
    "colab": {
      "name": "main.ipynb",
      "provenance": [],
      "collapsed_sections": [],
      "authorship_tag": "ABX9TyMJcWMj9yeWwTNuFwmCpGN3",
      "include_colab_link": true
    },
    "kernelspec": {
      "name": "python3",
      "display_name": "Python 3"
    },
    "language_info": {
      "name": "python"
    }
  },
  "cells": [
    {
      "cell_type": "markdown",
      "metadata": {
        "id": "view-in-github",
        "colab_type": "text"
      },
      "source": [
        "<a href=\"https://colab.research.google.com/github/eneskacan/agu-capstone/blob/main/main.ipynb\" target=\"_parent\"><img src=\"https://colab.research.google.com/assets/colab-badge.svg\" alt=\"Open In Colab\"/></a>"
      ]
    },
    {
      "cell_type": "code",
      "metadata": {
        "id": "EX8bnprWlqb0"
      },
      "source": [
        "# Define external URLs\n",
        "DOWNLOAD_ROOT = \"https://raw.githubusercontent.com/eneskacan/agu-capstone/main/\"\n",
        "VEHICLES_DATA = DOWNLOAD_ROOT + \"dataset/class_5.csv\""
      ],
      "execution_count": 1,
      "outputs": []
    },
    {
      "cell_type": "code",
      "metadata": {
        "id": "AHOVHHLQan7c",
        "colab": {
          "base_uri": "https://localhost:8080/",
          "height": 233
        },
        "outputId": "15e55833-3ffb-402d-ca56-658d8950e481"
      },
      "source": [
        "# Import dataset (class_5.csv)\n",
        "import pandas as pd\n",
        "\n",
        "X_df = pd.read_csv(VEHICLES_DATA, header=None).iloc[: , :-1] # drop the last column\n",
        "y_df = pd.read_csv(VEHICLES_DATA, header=None).iloc[: , -1:] # pick the last column\n",
        "\n",
        "vehicle_df = pd.concat([X_df, y_df], axis=1)\n",
        "\n",
        "pd.set_option(\"display.max_columns\", 15) # limit max number of columns displayed\n",
        "vehicle_df.head()"
      ],
      "execution_count": 23,
      "outputs": [
        {
          "output_type": "execute_result",
          "data": {
            "text/html": [
              "<div>\n",
              "<style scoped>\n",
              "    .dataframe tbody tr th:only-of-type {\n",
              "        vertical-align: middle;\n",
              "    }\n",
              "\n",
              "    .dataframe tbody tr th {\n",
              "        vertical-align: top;\n",
              "    }\n",
              "\n",
              "    .dataframe thead th {\n",
              "        text-align: right;\n",
              "    }\n",
              "</style>\n",
              "<table border=\"1\" class=\"dataframe\">\n",
              "  <thead>\n",
              "    <tr style=\"text-align: right;\">\n",
              "      <th></th>\n",
              "      <th>0</th>\n",
              "      <th>1</th>\n",
              "      <th>2</th>\n",
              "      <th>3</th>\n",
              "      <th>4</th>\n",
              "      <th>5</th>\n",
              "      <th>6</th>\n",
              "      <th>...</th>\n",
              "      <th>615</th>\n",
              "      <th>616</th>\n",
              "      <th>617</th>\n",
              "      <th>618</th>\n",
              "      <th>619</th>\n",
              "      <th>620</th>\n",
              "      <th>621</th>\n",
              "    </tr>\n",
              "  </thead>\n",
              "  <tbody>\n",
              "    <tr>\n",
              "      <th>0</th>\n",
              "      <td>-4646</td>\n",
              "      <td>-4635</td>\n",
              "      <td>-4621</td>\n",
              "      <td>-4622</td>\n",
              "      <td>-4637</td>\n",
              "      <td>-4689</td>\n",
              "      <td>-4789</td>\n",
              "      <td>...</td>\n",
              "      <td>0</td>\n",
              "      <td>0</td>\n",
              "      <td>0</td>\n",
              "      <td>0</td>\n",
              "      <td>0</td>\n",
              "      <td>0</td>\n",
              "      <td>hatchback</td>\n",
              "    </tr>\n",
              "    <tr>\n",
              "      <th>1</th>\n",
              "      <td>-4500</td>\n",
              "      <td>-4551</td>\n",
              "      <td>-4581</td>\n",
              "      <td>-4529</td>\n",
              "      <td>-4514</td>\n",
              "      <td>-4564</td>\n",
              "      <td>-4616</td>\n",
              "      <td>...</td>\n",
              "      <td>0</td>\n",
              "      <td>0</td>\n",
              "      <td>0</td>\n",
              "      <td>0</td>\n",
              "      <td>0</td>\n",
              "      <td>0</td>\n",
              "      <td>hatchback</td>\n",
              "    </tr>\n",
              "    <tr>\n",
              "      <th>2</th>\n",
              "      <td>-4333</td>\n",
              "      <td>-4326</td>\n",
              "      <td>-4329</td>\n",
              "      <td>-4329</td>\n",
              "      <td>-4327</td>\n",
              "      <td>-4331</td>\n",
              "      <td>-4325</td>\n",
              "      <td>...</td>\n",
              "      <td>0</td>\n",
              "      <td>0</td>\n",
              "      <td>0</td>\n",
              "      <td>0</td>\n",
              "      <td>0</td>\n",
              "      <td>0</td>\n",
              "      <td>hatchback</td>\n",
              "    </tr>\n",
              "    <tr>\n",
              "      <th>3</th>\n",
              "      <td>-4308</td>\n",
              "      <td>-4304</td>\n",
              "      <td>-4300</td>\n",
              "      <td>-4302</td>\n",
              "      <td>-4293</td>\n",
              "      <td>-4284</td>\n",
              "      <td>-4270</td>\n",
              "      <td>...</td>\n",
              "      <td>0</td>\n",
              "      <td>0</td>\n",
              "      <td>0</td>\n",
              "      <td>0</td>\n",
              "      <td>0</td>\n",
              "      <td>0</td>\n",
              "      <td>hatchback</td>\n",
              "    </tr>\n",
              "    <tr>\n",
              "      <th>4</th>\n",
              "      <td>-4765</td>\n",
              "      <td>-4763</td>\n",
              "      <td>-4766</td>\n",
              "      <td>-4757</td>\n",
              "      <td>-4758</td>\n",
              "      <td>-4754</td>\n",
              "      <td>-4755</td>\n",
              "      <td>...</td>\n",
              "      <td>0</td>\n",
              "      <td>0</td>\n",
              "      <td>0</td>\n",
              "      <td>0</td>\n",
              "      <td>0</td>\n",
              "      <td>0</td>\n",
              "      <td>hatchback</td>\n",
              "    </tr>\n",
              "  </tbody>\n",
              "</table>\n",
              "<p>5 rows × 622 columns</p>\n",
              "</div>"
            ],
            "text/plain": [
              "    0     1     2     3     4     5     6    ...  615  616  617  618  619  \\\n",
              "0 -4646 -4635 -4621 -4622 -4637 -4689 -4789  ...    0    0    0    0    0   \n",
              "1 -4500 -4551 -4581 -4529 -4514 -4564 -4616  ...    0    0    0    0    0   \n",
              "2 -4333 -4326 -4329 -4329 -4327 -4331 -4325  ...    0    0    0    0    0   \n",
              "3 -4308 -4304 -4300 -4302 -4293 -4284 -4270  ...    0    0    0    0    0   \n",
              "4 -4765 -4763 -4766 -4757 -4758 -4754 -4755  ...    0    0    0    0    0   \n",
              "\n",
              "   620        621  \n",
              "0    0  hatchback  \n",
              "1    0  hatchback  \n",
              "2    0  hatchback  \n",
              "3    0  hatchback  \n",
              "4    0  hatchback  \n",
              "\n",
              "[5 rows x 622 columns]"
            ]
          },
          "metadata": {
            "tags": []
          },
          "execution_count": 23
        }
      ]
    },
    {
      "cell_type": "code",
      "metadata": {
        "colab": {
          "base_uri": "https://localhost:8080/",
          "height": 281
        },
        "id": "WIbw6AfvssrH",
        "outputId": "30a8f862-13b2-4cf1-d3b5-671b186e5952"
      },
      "source": [
        "# Split dataset\n",
        "from sklearn.model_selection import train_test_split\n",
        "\n",
        "X_train, X_test, y_train, y_test = train_test_split(X_df, y_df, test_size=0.2)\n",
        "\n",
        "# Count vehicle types\n",
        "count_train = y_train.apply(pd.value_counts).rename(columns={y_train.columns[0]:'train'}).T\n",
        "count_test = y_test.apply(pd.value_counts).rename(columns={y_test.columns[0]:'test'}).T\n",
        "\n",
        "# Plot stacked bar chart\n",
        "pd.DataFrame([['sedan', count_train[['sedan']].values[0][0], count_test[['sedan']].values[0][0]], \n",
        "              ['suv', count_train[['suv']].values[0][0], count_test[['suv']].values[0][0]],\n",
        "              ['hatchback', count_train[['hatchback']].values[0][0], count_test[['hatchback']].values[0][0]],\n",
        "              ['motorcycle', count_train[['motorcycle']].values[0][0], count_test[['motorcycle']].values[0][0]],\n",
        "              ['truck', count_train[['truck']].values[0][0], count_test[['truck']].values[0][0]]],\n",
        "             columns=['', 'train', 'test']).plot(x='', kind='bar', stacked=True,\n",
        "                                                 title='Number of vehicles by type', rot=0);"
      ],
      "execution_count": 19,
      "outputs": [
        {
          "output_type": "display_data",
          "data": {
            "image/png": "[encoded data removed]",
            "text/plain": [
              "<Figure size 432x288 with 1 Axes>"
            ]
          },
          "metadata": {
            "tags": [],
            "needs_background": "light"
          }
        }
      ]
    }
  ]
}