{
  "nbformat": 4,
  "nbformat_minor": 0,
  "metadata": {
    "colab": {
      "name": "main.ipynb",
      "provenance": [],
      "collapsed_sections": [],
      "authorship_tag": "ABX9TyNoORtbeSWxNnPyBecYNl+O",
      "include_colab_link": true
    },
    "kernelspec": {
      "name": "python3",
      "display_name": "Python 3"
    },
    "language_info": {
      "name": "python"
    }
  },
  "cells": [
    {
      "cell_type": "markdown",
      "metadata": {
        "id": "view-in-github",
        "colab_type": "text"
      },
      "source": [
        "<a href=\"https://colab.research.google.com/github/eneskacan/agu-capstone/blob/main/main.ipynb\" target=\"_parent\"><img src=\"https://colab.research.google.com/assets/colab-badge.svg\" alt=\"Open In Colab\"/></a>"
      ]
    },
    {
      "cell_type": "markdown",
      "metadata": {
        "id": "4ZLGjFLRm-qS"
      },
      "source": [
        "## Vehicle Classification via Machine Learning"
      ]
    },
    {
      "cell_type": "markdown",
      "metadata": {
        "id": "ajDC09r8paXy"
      },
      "source": [
        "### 1. Introduction\n",
        "Vehicle classification is an important part of Intelligent Transportation System (ITS). Magnetic sensors are seen as a suitable solution for vehicle classification, considering the advantages such as ease of installation and maintenance, less exposure to weather conditions, and cost effectiveness.\n",
        "\n",
        "In this project, total of 376 vehicle signals collected by a single 3-D magnetic sensor, will be analyzed to develop a machine learning model that classifies different types of vehicles."
      ]
    },
    {
      "cell_type": "markdown",
      "metadata": {
        "id": "uXilbA_lptOk"
      },
      "source": [
        "### 2. Data Overview\n",
        "The dataset contains a total of 376 vehicles signals collected by a single 3D magnetic sensor. Each vehicle sample contains 621 features, 207 for each of the X, Y, and Z signals, and signal lengths vary from sample to sample since some of the vehicles pass the sensor rapidly. Finally, each sample is labelled as vehicle type including motorcycles, hatchbacks, sedans, SUVs and buses.\n"
      ]
    },
    {
      "cell_type": "code",
      "metadata": {
        "id": "AHOVHHLQan7c",
        "colab": {
          "base_uri": "https://localhost:8080/",
          "height": 233
        },
        "outputId": "db36e725-e5cc-4f7e-c459-38498b120cf7"
      },
      "source": [
        "# Import dataset (class_5.csv)\n",
        "import pandas as pd\n",
        "\n",
        "# Define external URLs\n",
        "DOWNLOAD_ROOT = \"https://raw.githubusercontent.com/eneskacan/agu-capstone/main/\"\n",
        "VEHICLES_DATA = DOWNLOAD_ROOT + \"dataset/class_5.csv\"\n",
        "\n",
        "X_df = pd.read_csv(VEHICLES_DATA, header=None).iloc[: , :-1] # drop the last column\n",
        "y_df = pd.read_csv(VEHICLES_DATA, header=None).iloc[: , -1:] # pick the last column\n",
        "\n",
        "vehicle_df = pd.concat([X_df, y_df], axis=1)\n",
        "\n",
        "pd.set_option(\"display.max_columns\", 15) # limit max number of columns displayed\n",
        "vehicle_df.head()"
      ],
      "execution_count": 1,
      "outputs": [
        {
          "output_type": "execute_result",
          "data": {
            "text/html": [
              "<div>\n",
              "<style scoped>\n",
              "    .dataframe tbody tr th:only-of-type {\n",
              "        vertical-align: middle;\n",
              "    }\n",
              "\n",
              "    .dataframe tbody tr th {\n",
              "        vertical-align: top;\n",
              "    }\n",
              "\n",
              "    .dataframe thead th {\n",
              "        text-align: right;\n",
              "    }\n",
              "</style>\n",
              "<table border=\"1\" class=\"dataframe\">\n",
              "  <thead>\n",
              "    <tr style=\"text-align: right;\">\n",
              "      <th></th>\n",
              "      <th>0</th>\n",
              "      <th>1</th>\n",
              "      <th>2</th>\n",
              "      <th>3</th>\n",
              "      <th>4</th>\n",
              "      <th>5</th>\n",
              "      <th>6</th>\n",
              "      <th>...</th>\n",
              "      <th>615</th>\n",
              "      <th>616</th>\n",
              "      <th>617</th>\n",
              "      <th>618</th>\n",
              "      <th>619</th>\n",
              "      <th>620</th>\n",
              "      <th>621</th>\n",
              "    </tr>\n",
              "  </thead>\n",
              "  <tbody>\n",
              "    <tr>\n",
              "      <th>0</th>\n",
              "      <td>-4646</td>\n",
              "      <td>-4635</td>\n",
              "      <td>-4621</td>\n",
              "      <td>-4622</td>\n",
              "      <td>-4637</td>\n",
              "      <td>-4689</td>\n",
              "      <td>-4789</td>\n",
              "      <td>...</td>\n",
              "      <td>0</td>\n",
              "      <td>0</td>\n",
              "      <td>0</td>\n",
              "      <td>0</td>\n",
              "      <td>0</td>\n",
              "      <td>0</td>\n",
              "      <td>hatchback</td>\n",
              "    </tr>\n",
              "    <tr>\n",
              "      <th>1</th>\n",
              "      <td>-4500</td>\n",
              "      <td>-4551</td>\n",
              "      <td>-4581</td>\n",
              "      <td>-4529</td>\n",
              "      <td>-4514</td>\n",
              "      <td>-4564</td>\n",
              "      <td>-4616</td>\n",
              "      <td>...</td>\n",
              "      <td>0</td>\n",
              "      <td>0</td>\n",
              "      <td>0</td>\n",
              "      <td>0</td>\n",
              "      <td>0</td>\n",
              "      <td>0</td>\n",
              "      <td>hatchback</td>\n",
              "    </tr>\n",
              "    <tr>\n",
              "      <th>2</th>\n",
              "      <td>-4333</td>\n",
              "      <td>-4326</td>\n",
              "      <td>-4329</td>\n",
              "      <td>-4329</td>\n",
              "      <td>-4327</td>\n",
              "      <td>-4331</td>\n",
              "      <td>-4325</td>\n",
              "      <td>...</td>\n",
              "      <td>0</td>\n",
              "      <td>0</td>\n",
              "      <td>0</td>\n",
              "      <td>0</td>\n",
              "      <td>0</td>\n",
              "      <td>0</td>\n",
              "      <td>hatchback</td>\n",
              "    </tr>\n",
              "    <tr>\n",
              "      <th>3</th>\n",
              "      <td>-4308</td>\n",
              "      <td>-4304</td>\n",
              "      <td>-4300</td>\n",
              "      <td>-4302</td>\n",
              "      <td>-4293</td>\n",
              "      <td>-4284</td>\n",
              "      <td>-4270</td>\n",
              "      <td>...</td>\n",
              "      <td>0</td>\n",
              "      <td>0</td>\n",
              "      <td>0</td>\n",
              "      <td>0</td>\n",
              "      <td>0</td>\n",
              "      <td>0</td>\n",
              "      <td>hatchback</td>\n",
              "    </tr>\n",
              "    <tr>\n",
              "      <th>4</th>\n",
              "      <td>-4765</td>\n",
              "      <td>-4763</td>\n",
              "      <td>-4766</td>\n",
              "      <td>-4757</td>\n",
              "      <td>-4758</td>\n",
              "      <td>-4754</td>\n",
              "      <td>-4755</td>\n",
              "      <td>...</td>\n",
              "      <td>0</td>\n",
              "      <td>0</td>\n",
              "      <td>0</td>\n",
              "      <td>0</td>\n",
              "      <td>0</td>\n",
              "      <td>0</td>\n",
              "      <td>hatchback</td>\n",
              "    </tr>\n",
              "  </tbody>\n",
              "</table>\n",
              "<p>5 rows × 622 columns</p>\n",
              "</div>"
            ],
            "text/plain": [
              "    0     1     2     3     4     5     6    ...  615  616  617  618  619  \\\n",
              "0 -4646 -4635 -4621 -4622 -4637 -4689 -4789  ...    0    0    0    0    0   \n",
              "1 -4500 -4551 -4581 -4529 -4514 -4564 -4616  ...    0    0    0    0    0   \n",
              "2 -4333 -4326 -4329 -4329 -4327 -4331 -4325  ...    0    0    0    0    0   \n",
              "3 -4308 -4304 -4300 -4302 -4293 -4284 -4270  ...    0    0    0    0    0   \n",
              "4 -4765 -4763 -4766 -4757 -4758 -4754 -4755  ...    0    0    0    0    0   \n",
              "\n",
              "   620        621  \n",
              "0    0  hatchback  \n",
              "1    0  hatchback  \n",
              "2    0  hatchback  \n",
              "3    0  hatchback  \n",
              "4    0  hatchback  \n",
              "\n",
              "[5 rows x 622 columns]"
            ]
          },
          "metadata": {
            "tags": []
          },
          "execution_count": 1
        }
      ]
    },
    {
      "cell_type": "markdown",
      "metadata": {
        "id": "xDXfzaxmqKR2"
      },
      "source": [
        "### 3. Data Manipulation\n",
        "In order to have better accuracy, missing data needs to be processed. And this will be done in 4 steps that are creating, completing, cleaning, and completing."
      ]
    },
    {
      "cell_type": "markdown",
      "metadata": {
        "id": "FCTdPKmStijJ"
      },
      "source": [
        "#### 3.1  Completing and Creating\n",
        "It is possible to create new features by using existing columns in order to use data more efficiently. Instead of using raw signals, some of the measures of central tendency and distribution, including mean, max, minimum values, and standard deviation can be used in order to have a better performance."
      ]
    },
    {
      "cell_type": "code",
      "metadata": {
        "id": "1uwS6Qv4trq3"
      },
      "source": [
        "# Create new features\n",
        "import numpy as np\n",
        "\n",
        "X_df = X_df.replace(0, np.NaN) # replace zeros with null\n",
        "\n",
        "# Find mean values for each signal\n",
        "X_df['x_avg'] = X_df.iloc[:, 000:206].mean(axis=1)\n",
        "X_df['y_avg'] = X_df.iloc[:, 207:414].mean(axis=1)\n",
        "X_df['z_avg'] = X_df.iloc[:, 415:621].mean(axis=1)\n",
        "\n",
        "# Find minimum values for each signal\n",
        "X_df['x_min'] = X_df.iloc[:, 000:206].min(axis=1)\n",
        "X_df['y_min'] = X_df.iloc[:, 207:414].min(axis=1)\n",
        "X_df['z_min'] = X_df.iloc[:, 415:621].min(axis=1)\n",
        "\n",
        "# Find maximum values for each signal\n",
        "X_df['x_max'] = X_df.iloc[:, 000:206].max(axis=1)\n",
        "X_df['y_max'] = X_df.iloc[:, 207:414].max(axis=1)\n",
        "X_df['z_max'] = X_df.iloc[:, 415:621].max(axis=1)\n",
        "\n",
        "# Find standard deviation for each signal\n",
        "X_df['x_std'] = X_df.iloc[:, 000:206].std(axis=1)\n",
        "X_df['y_std'] = X_df.iloc[:, 207:414].std(axis=1)\n",
        "X_df['z_std'] = X_df.iloc[:, 415:621].std(axis=1)"
      ],
      "execution_count": 2,
      "outputs": []
    },
    {
      "cell_type": "markdown",
      "metadata": {
        "id": "2VU7yQJqtaLX"
      },
      "source": [
        "#### 3.2 Converting\n",
        "***`Brief explanation of new vehicle classes will be here.`***"
      ]
    },
    {
      "cell_type": "code",
      "metadata": {
        "id": "oo5rA4lxiZPL"
      },
      "source": [
        "# Convert vehicle types\n",
        "s_map = {'motorcycle': 'light', \n",
        "         'hatchback': 'medium', 'sedan': 'medium', 'suv': 'medium', \n",
        "         'truck':'heavy'}\n",
        "\n",
        "# y2_df = pd.DataFrame()\n",
        "# y2_df['class'] = y_df.iloc[:, 0].map(s_map)\n",
        "y_df.iloc[:, 0] = y_df.iloc[:, 0].map(s_map)"
      ],
      "execution_count": 3,
      "outputs": []
    },
    {
      "cell_type": "markdown",
      "metadata": {
        "id": "_OnIXb-5txo0"
      },
      "source": [
        "#### 3.3 Cleaning\n",
        "After creating required features from existing attributes, unnecessary columns can be removed in order to keep the data tidy and make the further processes simple and easier."
      ]
    },
    {
      "cell_type": "code",
      "metadata": {
        "id": "Z2pbeztkt4Me"
      },
      "source": [
        "# Drop redundant columns\n",
        "X_df.drop(X_df.iloc[:, 0:621], inplace = True, axis = 1)"
      ],
      "execution_count": 4,
      "outputs": []
    },
    {
      "cell_type": "markdown",
      "metadata": {
        "id": "0xIwj7NaFE5u"
      },
      "source": [
        "***`Brief introduction of final dataset will be here.`***\n",
        "\n",
        "\n"
      ]
    },
    {
      "cell_type": "code",
      "metadata": {
        "colab": {
          "base_uri": "https://localhost:8080/",
          "height": 204
        },
        "id": "Ww3J0-4lFRdC",
        "outputId": "aa08d167-b6a9-43e4-aa74-eede797c158c"
      },
      "source": [
        "X_df.head()"
      ],
      "execution_count": 5,
      "outputs": [
        {
          "output_type": "execute_result",
          "data": {
            "text/html": [
              "<div>\n",
              "<style scoped>\n",
              "    .dataframe tbody tr th:only-of-type {\n",
              "        vertical-align: middle;\n",
              "    }\n",
              "\n",
              "    .dataframe tbody tr th {\n",
              "        vertical-align: top;\n",
              "    }\n",
              "\n",
              "    .dataframe thead th {\n",
              "        text-align: right;\n",
              "    }\n",
              "</style>\n",
              "<table border=\"1\" class=\"dataframe\">\n",
              "  <thead>\n",
              "    <tr style=\"text-align: right;\">\n",
              "      <th></th>\n",
              "      <th>x_avg</th>\n",
              "      <th>y_avg</th>\n",
              "      <th>z_avg</th>\n",
              "      <th>x_min</th>\n",
              "      <th>y_min</th>\n",
              "      <th>z_min</th>\n",
              "      <th>x_max</th>\n",
              "      <th>y_max</th>\n",
              "      <th>z_max</th>\n",
              "      <th>x_std</th>\n",
              "      <th>y_std</th>\n",
              "      <th>z_std</th>\n",
              "    </tr>\n",
              "  </thead>\n",
              "  <tbody>\n",
              "    <tr>\n",
              "      <th>0</th>\n",
              "      <td>-4597.514286</td>\n",
              "      <td>4013.457143</td>\n",
              "      <td>2659.823529</td>\n",
              "      <td>-4953.0</td>\n",
              "      <td>3276.0</td>\n",
              "      <td>1285.0</td>\n",
              "      <td>-4253.0</td>\n",
              "      <td>4894.0</td>\n",
              "      <td>3116.0</td>\n",
              "      <td>172.609790</td>\n",
              "      <td>323.271179</td>\n",
              "      <td>434.298003</td>\n",
              "    </tr>\n",
              "    <tr>\n",
              "      <th>1</th>\n",
              "      <td>-4612.208333</td>\n",
              "      <td>4118.333333</td>\n",
              "      <td>2853.304348</td>\n",
              "      <td>-4711.0</td>\n",
              "      <td>4077.0</td>\n",
              "      <td>2800.0</td>\n",
              "      <td>-4500.0</td>\n",
              "      <td>4180.0</td>\n",
              "      <td>2985.0</td>\n",
              "      <td>59.071055</td>\n",
              "      <td>29.052676</td>\n",
              "      <td>65.952762</td>\n",
              "    </tr>\n",
              "    <tr>\n",
              "      <th>2</th>\n",
              "      <td>-4332.577778</td>\n",
              "      <td>4061.088889</td>\n",
              "      <td>2911.539326</td>\n",
              "      <td>-4490.0</td>\n",
              "      <td>3888.0</td>\n",
              "      <td>2727.0</td>\n",
              "      <td>-4135.0</td>\n",
              "      <td>4226.0</td>\n",
              "      <td>3162.0</td>\n",
              "      <td>82.825385</td>\n",
              "      <td>102.943275</td>\n",
              "      <td>115.442927</td>\n",
              "    </tr>\n",
              "    <tr>\n",
              "      <th>3</th>\n",
              "      <td>-4250.776316</td>\n",
              "      <td>4071.842105</td>\n",
              "      <td>2918.973333</td>\n",
              "      <td>-4487.0</td>\n",
              "      <td>3989.0</td>\n",
              "      <td>2672.0</td>\n",
              "      <td>-3981.0</td>\n",
              "      <td>4239.0</td>\n",
              "      <td>3163.0</td>\n",
              "      <td>157.309851</td>\n",
              "      <td>62.855613</td>\n",
              "      <td>141.272879</td>\n",
              "    </tr>\n",
              "    <tr>\n",
              "      <th>4</th>\n",
              "      <td>-4734.907407</td>\n",
              "      <td>4035.425926</td>\n",
              "      <td>2889.094340</td>\n",
              "      <td>-4789.0</td>\n",
              "      <td>3861.0</td>\n",
              "      <td>2764.0</td>\n",
              "      <td>-4516.0</td>\n",
              "      <td>4227.0</td>\n",
              "      <td>3046.0</td>\n",
              "      <td>58.869625</td>\n",
              "      <td>78.088146</td>\n",
              "      <td>95.746513</td>\n",
              "    </tr>\n",
              "  </tbody>\n",
              "</table>\n",
              "</div>"
            ],
            "text/plain": [
              "         x_avg        y_avg        z_avg   x_min   y_min   z_min   x_max  \\\n",
              "0 -4597.514286  4013.457143  2659.823529 -4953.0  3276.0  1285.0 -4253.0   \n",
              "1 -4612.208333  4118.333333  2853.304348 -4711.0  4077.0  2800.0 -4500.0   \n",
              "2 -4332.577778  4061.088889  2911.539326 -4490.0  3888.0  2727.0 -4135.0   \n",
              "3 -4250.776316  4071.842105  2918.973333 -4487.0  3989.0  2672.0 -3981.0   \n",
              "4 -4734.907407  4035.425926  2889.094340 -4789.0  3861.0  2764.0 -4516.0   \n",
              "\n",
              "    y_max   z_max       x_std       y_std       z_std  \n",
              "0  4894.0  3116.0  172.609790  323.271179  434.298003  \n",
              "1  4180.0  2985.0   59.071055   29.052676   65.952762  \n",
              "2  4226.0  3162.0   82.825385  102.943275  115.442927  \n",
              "3  4239.0  3163.0  157.309851   62.855613  141.272879  \n",
              "4  4227.0  3046.0   58.869625   78.088146   95.746513  "
            ]
          },
          "metadata": {
            "tags": []
          },
          "execution_count": 5
        }
      ]
    },
    {
      "cell_type": "markdown",
      "metadata": {
        "id": "luJUgYraegcB"
      },
      "source": [
        "### 4. Split Dataset\n",
        "***`Add brief explanation.`***"
      ]
    },
    {
      "cell_type": "code",
      "metadata": {
        "colab": {
          "base_uri": "https://localhost:8080/",
          "height": 281
        },
        "id": "WIbw6AfvssrH",
        "outputId": "bea603a5-b08a-44f9-85c3-dedbfdce4c78"
      },
      "source": [
        "# Split dataset\n",
        "from sklearn.model_selection import train_test_split\n",
        "\n",
        "X_train, X_test, y_train, y_test = train_test_split(X_df, y_df, test_size=0.2)\n",
        "\n",
        "# Count vehicle types\n",
        "count_train = y_train.apply(pd.value_counts).rename(columns={y_train.columns[0]:'train'}).T\n",
        "count_test = y_test.apply(pd.value_counts).rename(columns={y_test.columns[0]:'test'}).T\n",
        "\n",
        "# Plot stacked bar chart\n",
        "# pd.DataFrame([['sedan', count_train[['sedan']].values[0][0], count_test[['sedan']].values[0][0]], \n",
        "#               ['suv', count_train[['suv']].values[0][0], count_test[['suv']].values[0][0]],\n",
        "#               ['hatchback', count_train[['hatchback']].values[0][0], count_test[['hatchback']].values[0][0]],\n",
        "#               ['motorcycle', count_train[['motorcycle']].values[0][0], count_test[['motorcycle']].values[0][0]],\n",
        "#               ['truck', count_train[['truck']].values[0][0], count_test[['truck']].values[0][0]]],\n",
        "#              columns=['', 'train', 'test']).plot(x='', kind='bar', stacked=True,\n",
        "#                                                  title='Number of vehicles by type', rot=0);\n",
        "\n",
        "pd.DataFrame([['light', count_train[['light']].values[0][0], count_test[['light']].values[0][0]],\n",
        "              ['medium', count_train[['medium']].values[0][0], count_test[['medium']].values[0][0]],\n",
        "              ['heavy', count_train[['heavy']].values[0][0], count_test[['heavy']].values[0][0]]],\n",
        "             columns=['', 'train', 'test']).plot(x='', kind='bar', stacked=True,\n",
        "                                                 title='Number of vehicles by type', rot=0);"
      ],
      "execution_count": 6,
      "outputs": [
        {
          "output_type": "display_data",
          "data": {
            "image/png": "[encoded data removed]",
            "text/plain": [
              "<Figure size 432x288 with 1 Axes>"
            ]
          },
          "metadata": {
            "tags": [],
            "needs_background": "light"
          }
        }
      ]
    },
    {
      "cell_type": "markdown",
      "metadata": {
        "id": "3k4M0RdGuZrM"
      },
      "source": [
        "### 5. Classification\n",
        "***`Add brief explanation.`***"
      ]
    },
    {
      "cell_type": "code",
      "metadata": {
        "id": "mUrWpsZxp0sx"
      },
      "source": [
        "# Calculate Stratified 10-Fold Accuracy\n",
        "from sklearn.model_selection import StratifiedKFold\n",
        "from sklearn.model_selection import cross_val_score\n",
        "\n",
        "def clc_accuracy(classifier):\n",
        "    skf = StratifiedKFold(n_splits=10) # Set stratified 10-fold    \n",
        "    score = cross_val_score(classifier, X_train, y_train.values.ravel(), cv=skf, \n",
        "                            n_jobs=1, scoring='accuracy')\n",
        "    print(f\"Mean: {score.mean():.2f},\".ljust(12), f\"STD: {score.std():.2f}\")\n",
        "\n",
        "# Plot Confusion Matrix\n",
        "from sklearn.metrics import plot_confusion_matrix\n",
        "from matplotlib import pyplot as plt\n",
        "\n",
        "def plt_confusion_matrix(classifier):\n",
        "    class_names = y_test.iloc[:, 0].unique()\n",
        "    titles_options = [(\"Confusion matrix, without normalization\", None, 1),\n",
        "                      (\"Normalized confusion matrix\", 'true', 2)]\n",
        "    classifier = classifier.fit(X_train, y_train.values.ravel())\n",
        "    for title, normalize, index in titles_options:\n",
        "      disp = plot_confusion_matrix(classifier, X_test, y_test, \n",
        "                                   display_labels=class_names,\n",
        "                                   cmap=plt.cm.Blues, normalize=normalize)\n",
        "      disp.ax_.set_title(title)\n",
        "    plt.show();\n",
        "\n",
        "# Plot Classification Report\n",
        "from sklearn.metrics import classification_report\n",
        "import seaborn as sns\n",
        "\n",
        "def plt_classification_report(classifier):\n",
        "    class_names = y_test.iloc[:, 0].unique()\n",
        "    y_pred = classifier.fit(X_train, y_train.values.ravel()).predict(X_test)\n",
        "    report = classification_report(y_test, y_pred, target_names=class_names, output_dict=True, zero_division=0)\n",
        "    sns.heatmap(pd.DataFrame(report).iloc[:-1, :].T, annot=True, cmap=plt.cm.Blues)\n",
        "    plt.yticks(rotation=0)\n",
        "    plt.show();"
      ],
      "execution_count": 7,
      "outputs": []
    },
    {
      "cell_type": "markdown",
      "metadata": {
        "id": "apC9qoV2tXx8"
      },
      "source": [
        "#### 5.1 Logistic Regression\n",
        "***`Add brief explanation.`***"
      ]
    },
    {
      "cell_type": "code",
      "metadata": {
        "id": "sU4kU9eRtdrp"
      },
      "source": [
        "# Logistic Regression\n",
        "from sklearn.linear_model import LogisticRegression\n",
        "logistic_regression = LogisticRegression(solver=\"lbfgs\", max_iter=50000)"
      ],
      "execution_count": 8,
      "outputs": []
    },
    {
      "cell_type": "markdown",
      "metadata": {
        "id": "jrj_jODaCcO7"
      },
      "source": [
        "##### 5.1.1 Performance Analysis"
      ]
    },
    {
      "cell_type": "code",
      "metadata": {
        "id": "JhMpyMLOaBOQ",
        "outputId": "7b44c99d-1557-4494-c321-aa7d22de379e",
        "colab": {
          "base_uri": "https://localhost:8080/"
        }
      },
      "source": [
        "clc_accuracy(logistic_regression)"
      ],
      "execution_count": 9,
      "outputs": [
        {
          "output_type": "stream",
          "text": [
            "Mean: 0.86,  STD: 0.03\n"
          ],
          "name": "stdout"
        }
      ]
    },
    {
      "cell_type": "code",
      "metadata": {
        "id": "1HiQzi07CpHu",
        "outputId": "368405db-a90b-40d2-dac6-eca3447fe65a",
        "colab": {
          "base_uri": "https://localhost:8080/",
          "height": 573
        }
      },
      "source": [
        "plt_confusion_matrix(logistic_regression)"
      ],
      "execution_count": 10,
      "outputs": [
        {
          "output_type": "display_data",
          "data": {
            "image/png": "[encoded data removed]",
            "text/plain": [
              "<Figure size 432x288 with 2 Axes>"
            ]
          },
          "metadata": {
            "tags": [],
            "needs_background": "light"
          }
        },
        {
          "output_type": "display_data",
          "data": {
            "image/png": "[encoded data removed]",
            "text/plain": [
              "<Figure size 432x288 with 2 Axes>"
            ]
          },
          "metadata": {
            "tags": [],
            "needs_background": "light"
          }
        }
      ]
    },
    {
      "cell_type": "code",
      "metadata": {
        "id": "cGTy8EWsI14W",
        "outputId": "da5528c3-44a8-45a9-cb81-86ec06ecab89",
        "colab": {
          "base_uri": "https://localhost:8080/",
          "height": 265
        }
      },
      "source": [
        "plt_classification_report(logistic_regression)"
      ],
      "execution_count": 11,
      "outputs": [
        {
          "output_type": "display_data",
          "data": {
            "image/png": "[encoded data removed]",
            "text/plain": [
              "<Figure size 432x288 with 2 Axes>"
            ]
          },
          "metadata": {
            "tags": [],
            "needs_background": "light"
          }
        }
      ]
    },
    {
      "cell_type": "markdown",
      "metadata": {
        "id": "knx6IVQNtd9v"
      },
      "source": [
        "#### 5.2 Random Forest\n",
        "***`Add brief explanation.`***"
      ]
    },
    {
      "cell_type": "code",
      "metadata": {
        "id": "Uomc-l4utlQB"
      },
      "source": [
        "# Random Forest Classifier\n",
        "from sklearn.ensemble import RandomForestClassifier\n",
        "random_forest = RandomForestClassifier()"
      ],
      "execution_count": 12,
      "outputs": []
    },
    {
      "cell_type": "markdown",
      "metadata": {
        "id": "zDmeFgiICmr9"
      },
      "source": [
        "##### 5.2.1 Performance Analysis"
      ]
    },
    {
      "cell_type": "code",
      "metadata": {
        "id": "FPsp2vISajHN",
        "outputId": "8c8daf8a-856d-4269-b46d-6d2a420935ae",
        "colab": {
          "base_uri": "https://localhost:8080/"
        }
      },
      "source": [
        "clc_accuracy(random_forest)"
      ],
      "execution_count": 13,
      "outputs": [
        {
          "output_type": "stream",
          "text": [
            "Mean: 0.85,  STD: 0.03\n"
          ],
          "name": "stdout"
        }
      ]
    },
    {
      "cell_type": "code",
      "metadata": {
        "id": "NjoajdkoCoBO",
        "outputId": "5a759172-a279-460c-b81c-75c7f663c7b1",
        "colab": {
          "base_uri": "https://localhost:8080/",
          "height": 573
        }
      },
      "source": [
        "plt_confusion_matrix(random_forest)"
      ],
      "execution_count": 14,
      "outputs": [
        {
          "output_type": "display_data",
          "data": {
            "image/png": "[encoded data removed]",
            "text/plain": [
              "<Figure size 432x288 with 2 Axes>"
            ]
          },
          "metadata": {
            "tags": [],
            "needs_background": "light"
          }
        },
        {
          "output_type": "display_data",
          "data": {
            "image/png": "[encoded data removed]",
            "text/plain": [
              "<Figure size 432x288 with 2 Axes>"
            ]
          },
          "metadata": {
            "tags": [],
            "needs_background": "light"
          }
        }
      ]
    },
    {
      "cell_type": "code",
      "metadata": {
        "id": "nPJMkSKALgTd",
        "outputId": "8c8ac707-2955-49ed-8059-642853849590",
        "colab": {
          "base_uri": "https://localhost:8080/",
          "height": 265
        }
      },
      "source": [
        "plt_classification_report(random_forest)"
      ],
      "execution_count": 15,
      "outputs": [
        {
          "output_type": "display_data",
          "data": {
            "image/png": "[encoded data removed]",
            "text/plain": [
              "<Figure size 432x288 with 2 Axes>"
            ]
          },
          "metadata": {
            "tags": [],
            "needs_background": "light"
          }
        }
      ]
    },
    {
      "cell_type": "markdown",
      "metadata": {
        "id": "7MA-z8bctlkd"
      },
      "source": [
        "#### 5.3 Support Vector Machine\n",
        "***`Add brief explanation.`***"
      ]
    },
    {
      "cell_type": "code",
      "metadata": {
        "id": "EoFYLMGYtozq"
      },
      "source": [
        "# Support Vector Machine Classifier\n",
        "from sklearn.svm import SVC\n",
        "svc = SVC()"
      ],
      "execution_count": 16,
      "outputs": []
    },
    {
      "cell_type": "markdown",
      "metadata": {
        "id": "jZFmeCKMCqDW"
      },
      "source": [
        "##### 5.3.1 Performance Analysis"
      ]
    },
    {
      "cell_type": "code",
      "metadata": {
        "id": "wQ5zw5nharFk",
        "outputId": "9e23ff2e-280b-4878-a9e0-c8a095592562",
        "colab": {
          "base_uri": "https://localhost:8080/"
        }
      },
      "source": [
        "clc_accuracy(svc)"
      ],
      "execution_count": 17,
      "outputs": [
        {
          "output_type": "stream",
          "text": [
            "Mean: 0.78,  STD: 0.02\n"
          ],
          "name": "stdout"
        }
      ]
    },
    {
      "cell_type": "code",
      "metadata": {
        "id": "2qjaQXIBCq71",
        "outputId": "32508dd1-6752-4c2c-8ac9-9784f4816be0",
        "colab": {
          "base_uri": "https://localhost:8080/",
          "height": 573
        }
      },
      "source": [
        "plt_confusion_matrix(svc)"
      ],
      "execution_count": 18,
      "outputs": [
        {
          "output_type": "display_data",
          "data": {
            "image/png": "[encoded data removed]",
            "text/plain": [
              "<Figure size 432x288 with 2 Axes>"
            ]
          },
          "metadata": {
            "tags": [],
            "needs_background": "light"
          }
        },
        {
          "output_type": "display_data",
          "data": {
            "image/png": "[encoded data removed]",
            "text/plain": [
              "<Figure size 432x288 with 2 Axes>"
            ]
          },
          "metadata": {
            "tags": [],
            "needs_background": "light"
          }
        }
      ]
    },
    {
      "cell_type": "code",
      "metadata": {
        "id": "kz3DuIT4MCpA",
        "outputId": "6550b832-9ffd-465f-a98c-1825f847a508",
        "colab": {
          "base_uri": "https://localhost:8080/",
          "height": 269
        }
      },
      "source": [
        "plt_classification_report(svc)"
      ],
      "execution_count": 19,
      "outputs": [
        {
          "output_type": "display_data",
          "data": {
            "image/png": "[encoded data removed]",
            "text/plain": [
              "<Figure size 432x288 with 2 Axes>"
            ]
          },
          "metadata": {
            "tags": [],
            "needs_background": "light"
          }
        }
      ]
    },
    {
      "cell_type": "markdown",
      "metadata": {
        "id": "Ev3Xn_4ctpAf"
      },
      "source": [
        "#### 5.4 Multilayer Perceptron"
      ]
    },
    {
      "cell_type": "markdown",
      "metadata": {
        "id": "_0WLeArTCreg"
      },
      "source": [
        "##### 5.4.1 Performance Analysis"
      ]
    },
    {
      "cell_type": "code",
      "metadata": {
        "id": "_-LYRIPjCsYi"
      },
      "source": [
        ""
      ],
      "execution_count": 19,
      "outputs": []
    }
  ]
}